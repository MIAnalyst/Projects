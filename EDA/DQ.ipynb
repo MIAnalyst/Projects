{
 "cells": [
  {
   "cell_type": "code",
   "execution_count": null,
   "metadata": {
    "id": "tL-z_zqZayFh"
   },
   "outputs": [],
   "source": [
    "# %pip install phik"
   ]
  },
  {
   "cell_type": "code",
   "execution_count": null,
   "metadata": {
    "id": "OibIsxe2aDTl"
   },
   "outputs": [],
   "source": [
    "import pandas as pd\n",
    "import numpy as np\n",
    "# from phik import phik_matrix\n",
    "from scipy.stats import entropy\n"
   ]
  },
  {
   "cell_type": "code",
   "execution_count": null,
   "metadata": {
    "id": "XaFvz_qTaCV7"
   },
   "outputs": [],
   "source": [
    "def datType(c):\n",
    "    if c.nunique() > 20 and c.dtype.kind in \"iufc\":\n",
    "        return \"Continuous\"\n",
    "    elif c.nunique() < 20 and c.dtype.kind in \"iufc\":\n",
    "        return \"Categorical\"\n",
    "    elif c.dtype==object:\n",
    "        return \"Text\"\n",
    "    elif pd.api.types.is_datetime64_any_dtype(c):\n",
    "        return \"Date\"\n",
    "    else:\n",
    "        return \"Other\"\n",
    "\n",
    "def meta(c):\n",
    "    dtype = c.dtype\n",
    "    mem = round(c.memory_usage(deep=True) / (1024 * 1024),2)\n",
    "    uniq = c.nunique()\n",
    "    nulls = c.isnull().sum()\n",
    "    empty = c.astype(str).str.strip().eq(\"\").sum()\n",
    "    return dtype,mem,uniq,nulls,empty\n",
    "\n",
    "def stats(c):\n",
    "    mode_val = c.mode()[0] if not c.mode().empty else \"N/A\"\n",
    "    ent = round(entropy(c.value_counts(normalize=True), base=2), 2)\n",
    "    maxent = round(np.log2(c.nunique()), 2) if c.nunique() > 0 else 0\n",
    "    # Defaults for all columns\n",
    "    mean = std = min_val = max_val = skew = kurt = q1 = q2 = q3 = outliers = \"N/A\"\n",
    "    if c.dtype.kind in \"iufcM\":\n",
    "      mean = c.mean()\n",
    "      std = c.std()\n",
    "      min_val = c.min()\n",
    "      max_val = c.max()\n",
    "      q1 = c.quantile(0.25)\n",
    "      q2 = c.quantile(0.5)\n",
    "      q3 = c.quantile(0.75)\n",
    "      iqr = q3 - q1\n",
    "      lower = q1 - 1.5 * iqr\n",
    "      upper = q3 + 1.5 * iqr\n",
    "      outliers = ((c < lower) | (c > upper)).sum()\n",
    "      if c.dtype.kind in \"iufc\" and c.nunique() > 20:\n",
    "          skew = round(c.skew(), 2)\n",
    "          kurt = round(c.kurtosis(), 2)\n",
    "    return mode_val,ent,maxent,mean ,std ,min_val , max_val ,skew , kurt , q1 , q2 , q3 , outliers\n",
    "\n",
    "def DatasetMetadata(df, toPrint=True, Matrix=False):\n",
    "    summary_data = []\n",
    "    #Since the memory usage of columns doesn't change during the loop, there's no need to recalculate it inside the loop.\n",
    "    memUsage = list(df.memory_usage(deep=True) / (1024 * 1024))[1:]\n",
    "\n",
    "    for  c in df.columns:\n",
    "        col = df[c]\n",
    "        dtype,mem,uniq,nulls,empty=meta(col)\n",
    "\n",
    "        mode_val,ent,maxent,mean ,std ,min_val , max_val ,skew , kurt , q1 , q2 , q3 , outliers=stats(col)\n",
    "        vartype = datType(col)\n",
    "\n",
    "        summary_data.append([\n",
    "            c, str(dtype), mem, vartype, uniq, nulls, empty, mode_val,\n",
    "            mean, std, min_val, q2, max_val, skew, kurt, q1, q2, q3, outliers, ent, maxent\n",
    "        ])\n",
    "\n",
    "    SummaryDF = pd.DataFrame(summary_data, columns=[\n",
    "        \"CName\", \"DType\", \"UsageMB\", \"VarType\", \"Cardinality\", \"Null*\", \"Empty*\", \"Mode\",\n",
    "        \"Mean\", \"Std\", \"Min\", \"Median\", \"Max\", \"Skewness\", \"Kurtosis\", \"Q1\", \"Q2/Median\", \"Q3\",\n",
    "        \"Outliers\", \"Entropy\", \"Max Entropy\"\n",
    "    ])\n",
    "\n",
    "    if toPrint:\n",
    "        print(f\"The dataset includes {df.shape[1]} columns and {format(df.shape[0],',')} rows\")\n",
    "        print(f\"Dataset has {df.duplicated().sum()} duplicate rows\")\n",
    "        print(f\"Memory Usage of the DataFrame: {df.memory_usage(deep=True).sum() / (1024 * 1024):.2f} MB\")\n",
    "        print(\"--------------------------\")\n",
    "        print(\"First rows\")\n",
    "        print(df.head())\n",
    "        print(\"--------------------------\")\n",
    "    if Matrix:\n",
    "        print(\"Phik Correlation Matrix\")\n",
    "        numeric = [c for c in df.columns if df[c].dtype.kind in \"iufc\"]\n",
    "        corr_matrix = df.phik_matrix(interval_cols=numeric)\n",
    "        print(corr_matrix)\n",
    "\n",
    "    return SummaryDF\n"
   ]
  },
  {
   "cell_type": "code",
   "execution_count": null,
   "metadata": {
    "executionInfo": {
     "elapsed": 41,
     "status": "ok",
     "timestamp": 1751376284268,
     "user": {
      "displayName": "Ehab",
      "userId": "14421521947418719865"
     },
     "user_tz": -120
    },
    "id": "So-GUXH6gjId"
   },
   "outputs": [],
   "source": [
    "def CheckGap(df,dateColumn,freq,showGaps=True):\n",
    "  FullDate=pd.date_range(df[dateColumn].min(),df[dateColumn].max(),freq=freq)\n",
    "  minDate=set(FullDate)-set(df[dateColumn])\n",
    "  if showGaps:\n",
    "    print(minDate)\n",
    "  return f\"The {dateColumn} has gap = {len(minDate)}\"\n",
    "  "
   ]
  }
 ],
 "metadata": {
  "colab": {
   "authorship_tag": "ABX9TyOT4iPkSNjyX5qRS3bZrAwM",
   "provenance": []
  },
  "kernelspec": {
   "display_name": "ML-env1",
   "language": "python",
   "name": "python3"
  },
  "language_info": {
   "codemirror_mode": {
    "name": "ipython",
    "version": 3
   },
   "file_extension": ".py",
   "mimetype": "text/x-python",
   "name": "python",
   "nbconvert_exporter": "python",
   "pygments_lexer": "ipython3",
   "version": "3.10.16"
  }
 },
 "nbformat": 4,
 "nbformat_minor": 0
}
